{
 "cells": [
  {
   "cell_type": "code",
   "execution_count": 1,
   "metadata": {},
   "outputs": [],
   "source": [
    "import random\n",
    "import operator\n",
    "import pandas as pd\n",
    "import numpy as np"
   ]
  },
  {
   "cell_type": "code",
   "execution_count": 2,
   "metadata": {},
   "outputs": [],
   "source": [
    "rating_path = '../data/ml-latest-small/ratings.csv'\n",
    "train_path = '../data/train_set.csv'\n",
    "test_path = '../data/test_set.csv'\n",
    "\n",
    "train_frac = 0.8\n",
    "latent_dim = 10\n",
    "sigma = 0.5\n",
    "sigma_p = 0.5\n",
    "sigma_q = 0.5\n",
    "mu = 0"
   ]
  },
  {
   "cell_type": "code",
   "execution_count": 3,
   "metadata": {},
   "outputs": [],
   "source": [
    "rating_pd = pd.read_csv(rating_path)\n",
    "num_user = np.unique(rating_pd.values[:, 0]).shape[0]\n",
    "num_movie = np.unique(rating_pd.values[:, 1]).shape[0]\n",
    "\n",
    "# df_shuffled = rating_pd.sample(frac=1).reset_index(drop=True)\n",
    "# train_set = df_shuffled.iloc[:int(train_frac * len(df_shuffled))]\n",
    "# train_set.to_csv(path_or_buf=train_path, index=False)\n",
    "# test_set = df_shuffled.iloc[int(train_frac * len(df_shuffled)):]\n",
    "# test_set.to_csv(path_or_buf=test_path, index=False)\n",
    "train_rating_pd = pd.read_csv(train_path)"
   ]
  },
  {
   "cell_type": "code",
   "execution_count": 4,
   "metadata": {},
   "outputs": [],
   "source": [
    "r_matrix = np.zeros((num_user, num_movie))\n",
    "p_matrix = np.random.normal(mu, sigma_p, (num_user, latent_dim))\n",
    "q_matrix = np.random.normal(mu, sigma_q, (num_movie, latent_dim))\n",
    "\n",
    "movie_dic = {}\n",
    "idx = 0\n",
    "for movie_id in np.unique(train_rating_pd.values[:, 1]):\n",
    "    movie_dic[movie_id] = idx\n",
    "    idx += 1\n",
    "    \n",
    "movie_IDD = set(rating_pd['movieId'].unique().tolist())\n",
    "train_ID = set(train_rating_pd['movieId'].unique().tolist())\n",
    "not_in_training_ID = movie_IDD - train_ID    \n",
    "\n",
    "for index, row in train_rating_pd.iterrows():\n",
    "    r_matrix[int(row['userId'] - 1), movie_dic[row['movieId']]] = row['rating']\n",
    "    \n",
    "sorted_dic = sorted(movie_dic.items(), key=operator.itemgetter(1))\n",
    "\n",
    "\n",
    "## saving the movie_ID dictionary\n",
    "with open('../output/movie_indexes.csv', 'w') as f:\n",
    "    f.write('matrix_index,movie_id\\n')\n",
    "    for movie_id, index in sorted_dic:\n",
    "        f.write('{},{}\\n'.format(index, int(movie_id)))  \n",
    "index = len(sorted_dic)\n",
    "with open('../doc/movie_indexes.csv', 'a') as f:\n",
    "    for movie_id in not_in_training_ID:\n",
    "        f.write('{},{}\\n'.format(index, int(movie_id)))\n",
    "        index += 1"
   ]
  },
  {
   "cell_type": "code",
   "execution_count": 5,
   "metadata": {},
   "outputs": [],
   "source": [
    "def MSE (r, p, q):\n",
    "    p_qt_matrix = np.dot(p, q.T)\n",
    "    result = r - p_qt_matrix\n",
    "    I = np.zeros_like(r)\n",
    "    I[r != 0] = 0.5\n",
    "    result = np.power(result, 2)\n",
    "    result = np.multiply(I, result)\n",
    "    return np.sum(result)\n",
    "    \n",
    "def L2_loss(sig1, sig2, matrix):\n",
    "    result = np.power(matrix, 2)\n",
    "    result = np.sum(result)\n",
    "    constant = sig1 / float(sig2 * 2)\n",
    "    return constant * result  \n",
    "    \n",
    "def p_q_derivative (r, p, q, sigma, sigma_p, sigma_q):\n",
    "    p_qt_matrix = np.dot(p, q.T)\n",
    "    residual = r - p_qt_matrix\n",
    "    I = np.zeros_like(r)\n",
    "    I[r != 0] = 1\n",
    "    residual = np.multiply(I, residual)\n",
    "    p_derivative = -1.0 * np.dot(residual, q) + sigma / sigma_p * p\n",
    "    q_derivative = -1.0 * np.dot(residual.T, p) + sigma / sigma_q * q\n",
    "    return p_derivative, q_derivative  "
   ]
  },
  {
   "cell_type": "code",
   "execution_count": null,
   "metadata": {
    "scrolled": true
   },
   "outputs": [
    {
     "name": "stdout",
     "output_type": "stream",
     "text": [
      "32586.83864467114\n",
      "28078.824178005358\n",
      "21988.209204592855\n",
      "18827.181616596827\n",
      "16880.93604299368\n",
      "15595.207402978862\n",
      "14705.14916796104\n",
      "14062.617284524049\n",
      "13579.566212043554\n",
      "13203.830961291424\n",
      "12903.988639013824\n",
      "12660.133334815395\n",
      "12458.887188787023\n",
      "12290.802558104326\n",
      "12148.95495861565\n",
      "12028.128086828316\n",
      "11924.310295668716\n",
      "11834.366341764035\n",
      "11755.815096465398\n",
      "11686.675189038606\n",
      "11625.355154820641\n",
      "11570.572641035145\n",
      "11521.292731230917\n",
      "11476.679413843036\n",
      "11436.056741819542\n",
      "11398.877578977603\n",
      "11364.698456855383\n",
      "11333.159363442379\n",
      "11303.96746319763\n",
      "11276.883882577\n",
      "11251.712820347924\n"
     ]
    }
   ],
   "source": [
    "big_lr = 0.001\n",
    "small_lr = 0.0001\n",
    "cnt = 0\n",
    "\n",
    "error = MSE(r_matrix, p_matrix, q_matrix) + L2_loss(sigma, sigma_q, q_matrix) + L2_loss(sigma, sigma_p, p_matrix)\n",
    "\n",
    "while (error >= 238):\n",
    "\n",
    "\n",
    "    if error > 300:\n",
    "        learning_rate = big_lr\n",
    "    else:\n",
    "        learning_rate = small_lr\n",
    "\n",
    "    p_derivative, q_derivative = p_q_derivative (r_matrix, p_matrix, q_matrix, sigma, sigma_p, sigma_q)\n",
    "    p_matrix = p_matrix - learning_rate * p_derivative\n",
    "    q_matrix = q_matrix - learning_rate * q_derivative\n",
    "    error = MSE(r_matrix, p_matrix, q_matrix)\n",
    "    cnt += 1\n",
    "    if cnt % 100 == 0:\n",
    "        print(error)\n"
   ]
  },
  {
   "cell_type": "code",
   "execution_count": null,
   "metadata": {},
   "outputs": [],
   "source": [
    "print(cnt, error)"
   ]
  },
  {
   "cell_type": "code",
   "execution_count": null,
   "metadata": {},
   "outputs": [],
   "source": [
    "pd.DataFrame(p_matrix).to_csv(\"../output/p_matrix_A2_final_{}.csv\".format(latent_dim))\n",
    "pd.DataFrame(q_matrix).to_csv(\"../output/q_matrix_A2_final_{}.csv\".format(latent_dim))"
   ]
  }
 ],
 "metadata": {
  "kernelspec": {
   "display_name": "Python 3",
   "language": "python",
   "name": "python3"
  },
  "language_info": {
   "codemirror_mode": {
    "name": "ipython",
    "version": 3
   },
   "file_extension": ".py",
   "mimetype": "text/x-python",
   "name": "python",
   "nbconvert_exporter": "python",
   "pygments_lexer": "ipython3",
   "version": "3.6.5"
  }
 },
 "nbformat": 4,
 "nbformat_minor": 2
}
